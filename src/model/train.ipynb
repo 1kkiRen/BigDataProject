{
  "nbformat": 4,
  "nbformat_minor": 0,
  "metadata": {
    "colab": {
      "provenance": []
    },
    "kernelspec": {
      "name": "python3",
      "display_name": "Python 3"
    },
    "language_info": {
      "name": "python"
    }
  },
  "cells": [
    {
      "cell_type": "code",
      "execution_count": 1,
      "metadata": {
        "colab": {
          "base_uri": "https://localhost:8080/",
          "height": 0
        },
        "id": "BGBKYinqi3Ln",
        "outputId": "7ed1aa97-74b5-4a2f-9db3-2e3a905a3ae9"
      },
      "outputs": [
        {
          "output_type": "stream",
          "name": "stdout",
          "text": [
            "Requirement already satisfied: pyspark in /usr/local/lib/python3.11/dist-packages (3.5.5)\n",
            "Requirement already satisfied: py4j==0.10.9.7 in /usr/local/lib/python3.11/dist-packages (from pyspark) (0.10.9.7)\n"
          ]
        }
      ],
      "source": [
        "!pip install pyspark"
      ]
    },
    {
      "cell_type": "code",
      "source": [
        "TEAM = 29"
      ],
      "metadata": {
        "id": "Nu6oeMIVk8AD"
      },
      "execution_count": 3,
      "outputs": []
    },
    {
      "cell_type": "code",
      "source": [
        "from pyspark.sql import SparkSession\n",
        "\n",
        "spark = SparkSession.builder.appName(f\"{TEAM} - spark ML\").getOrCreate()\n",
        "\n",
        "#        .master(\"yarn\")\\\n",
        "#        .config(\"hive.metastore.uris\", \"thrift://hadoop-02.uni.innopolis.ru:9883\")\\\n",
        "#        .config(\"spark.sql.warehouse.dir\", warehouse)\\\n",
        "#        .config(\"spark.sql.avro.compression.codec\", \"snappy\")\\\n",
        "#        .enableHiveSupport()\\"
      ],
      "metadata": {
        "id": "-x8EYxzhjLr7"
      },
      "execution_count": 4,
      "outputs": []
    },
    {
      "cell_type": "code",
      "source": [
        "df = (\n",
        "    spark.read.format(\"csv\")\n",
        "    .option(\"header\", \"true\")\n",
        "    .option(\"inferSchema\", \"true\")\n",
        "    .load(\"records.csv\")\n",
        ")"
      ],
      "metadata": {
        "id": "qRASnr5dlbiF"
      },
      "execution_count": 6,
      "outputs": []
    },
    {
      "cell_type": "code",
      "source": [
        "df = df.withColumn(\"cmaq_oc\", F.col(\"cmaq_organic_carbon\")).drop(\"cmaq_organic_carbon\")\n",
        "for i in [\"airnow_ozone\", \"cmaq_ozone\", \"cmaq_no2\", \"cmaq_co\", \"cmaq_oc\", \"pressure\", \"pbl\", \"temperature\", \"wind_speed\", \"wind_direction\", \"radiation\"]:\n",
        "    df = df.withColumn(i, F.col(i).cast(\"float\"))"
      ],
      "metadata": {
        "id": "g-6QOfCamGu4"
      },
      "execution_count": null,
      "outputs": []
    },
    {
      "cell_type": "code",
      "source": [
        "df.show()"
      ],
      "metadata": {
        "colab": {
          "base_uri": "https://localhost:8080/",
          "height": 0
        },
        "id": "3IUPXAq0vaPm",
        "outputId": "6e490585-0567-45e2-9b17-327e18a6b850"
      },
      "execution_count": 35,
      "outputs": [
        {
          "output_type": "stream",
          "name": "stdout",
          "text": [
            "+------------+------------+----------+--------+-------+--------+------+-----------+----------+--------------+---------+--------------+-----+---+----+-------+\n",
            "|  station_id|airnow_ozone|cmaq_ozone|cmaq_no2|cmaq_co|pressure|   pbl|temperature|wind_speed|wind_direction|radiation|cloud_fraction|month|day|hour|cmaq_oc|\n",
            "+------------+------------+----------+--------+-------+--------+------+-----------+----------+--------------+---------+--------------+-----+---+----+-------+\n",
            "|   120350004|        35.0|      25.0|     0.0|   84.0|101384.0|1319.0|      305.0|       6.0|         242.0|    576.0|           0.0|    8|  1|  21|    1.0|\n",
            "|   360850111|        52.0|      45.0|     2.0|  147.0|100797.0|1163.0|      299.0|       4.0|         189.0|    416.0|           0.0|    8|  1|  21|    2.0|\n",
            "|   390610040|        41.0|      45.0|     1.0|  137.0| 98891.0|2170.0|      302.0|       6.0|         339.0|    696.0|           0.0|    8|  1|  21|    5.0|\n",
            "|840450070006|        50.0|      42.0|     0.0|  154.0| 98536.0|1625.0|      305.0|       6.0|         275.0|    564.0|           1.0|    8|  1|  21|    5.0|\n",
            "|   060712002|        85.0|      72.0|     3.0|  187.0| 94922.0| 730.0|      307.0|       4.0|         229.0|   1000.0|           0.0|    8|  1|  21|   10.0|\n",
            "|840540110007|        52.0|      47.0|     1.0|  124.0| 98710.0|1859.0|      300.0|       5.0|         312.0|    560.0|           0.0|    8|  1|  21|    2.0|\n",
            "|   060379033|        55.0|      50.0|     0.0|   95.0| 92696.0|1610.0|      308.0|       6.0|         231.0|   1017.0|           0.0|    8|  1|  21|    1.0|\n",
            "|   560350099|        62.0|      47.0|     0.0|   90.0| 79184.0|2551.0|      300.0|       2.0|         221.0|    918.0|           0.0|    8|  1|  21|    2.0|\n",
            "|   090131001|        45.0|      44.0|     1.0|  114.0| 99371.0|1262.0|      297.0|       6.0|         194.0|    541.0|           1.0|    8|  1|  21|    2.0|\n",
            "|   060290008|        56.0|      47.0|     0.0|   85.0| 97825.0| 880.0|      309.0|       3.0|          37.0|   1005.0|           0.0|    8|  1|  21|    1.0|\n",
            "|   060290007|        67.0|      48.0|     1.0|   90.0| 99929.0| 867.0|      310.0|       3.0|         295.0|    996.0|           0.0|    8|  1|  21|    2.0|\n",
            "|   060371103|        63.0|      52.0|     4.0|  164.0| 99786.0| 566.0|      307.0|       4.0|         225.0|   1000.0|           0.0|    8|  1|  21|    3.0|\n",
            "|   060851001|        41.0|      28.0|     0.0|   84.0| 97071.0| 659.0|      300.0|       2.0|         222.0|    997.0|           0.0|    8|  1|  21|    0.0|\n",
            "|   060290014|        55.0|      42.0|     2.0|   91.0| 99899.0| 737.0|      309.0|       3.0|         316.0|    996.0|           0.0|    8|  1|  21|    1.0|\n",
            "|   480391004|        18.0|      39.0|     1.0|   97.0|101290.0|1449.0|      306.0|       2.0|         226.0|    632.0|           0.0|    8|  1|  21|    1.0|\n",
            "|   060392010|        53.0|      47.0|     1.0|   99.0|100314.0| 775.0|      308.0|       2.0|         256.0|    984.0|           0.0|    8|  1|  21|    3.0|\n",
            "|   483390078|        28.0|      38.0|     1.0|  114.0|100751.0|1119.0|      304.0|       1.0|         170.0|    452.0|           1.0|    8|  1|  21|    1.0|\n",
            "|   391514005|        48.0|      49.0|     1.0|  133.0| 97191.0|1450.0|      295.0|       5.0|         319.0|    343.0|           0.0|    8|  1|  21|    4.0|\n",
            "|   360450002|        15.0|      31.0|     1.0|  109.0| 99659.0| 143.0|      291.0|       2.0|           7.0|     77.0|           1.0|    8|  1|  21|    1.0|\n",
            "|   281619991|        43.0|      55.0|     0.0|  164.0|100291.0|1091.0|      306.0|       4.0|         343.0|    696.0|           0.0|    8|  1|  21|    5.0|\n",
            "+------------+------------+----------+--------+-------+--------+------+-----------+----------+--------------+---------+--------------+-----+---+----+-------+\n",
            "only showing top 20 rows\n",
            "\n"
          ]
        }
      ]
    },
    {
      "cell_type": "code",
      "source": [
        "df.createOrReplaceTempView(\"record\")\n",
        "df.printSchema()"
      ],
      "metadata": {
        "colab": {
          "base_uri": "https://localhost:8080/",
          "height": 0
        },
        "id": "_nWGTiqDmSY3",
        "outputId": "c4f507da-0455-4ede-8496-9f2913905a73"
      },
      "execution_count": 36,
      "outputs": [
        {
          "output_type": "stream",
          "name": "stdout",
          "text": [
            "root\n",
            " |-- station_id: string (nullable = true)\n",
            " |-- airnow_ozone: float (nullable = true)\n",
            " |-- cmaq_ozone: float (nullable = true)\n",
            " |-- cmaq_no2: float (nullable = true)\n",
            " |-- cmaq_co: float (nullable = true)\n",
            " |-- pressure: float (nullable = true)\n",
            " |-- pbl: float (nullable = true)\n",
            " |-- temperature: float (nullable = true)\n",
            " |-- wind_speed: float (nullable = true)\n",
            " |-- wind_direction: float (nullable = true)\n",
            " |-- radiation: float (nullable = true)\n",
            " |-- cloud_fraction: double (nullable = true)\n",
            " |-- month: integer (nullable = true)\n",
            " |-- day: integer (nullable = true)\n",
            " |-- hour: integer (nullable = true)\n",
            " |-- cmaq_oc: float (nullable = true)\n",
            "\n"
          ]
        }
      ]
    },
    {
      "cell_type": "code",
      "source": [
        "from pyspark import keyword_only\n",
        "from pyspark.ml import Transformer\n",
        "from pyspark.ml.param.shared import (\n",
        "    HasInputCol,\n",
        "    HasOutputCol,\n",
        "    Param,\n",
        "    Params,\n",
        "    TypeConverters,\n",
        ")\n",
        "from pyspark.ml.util import DefaultParamsReadable, DefaultParamsWritable\n",
        "from pyspark.sql import functions as F\n",
        "from pyspark.sql.types import ArrayType, StringType\n",
        "import math\n",
        "\n",
        "\n",
        "class SinCosTransformer(\n",
        "    Transformer, HasInputCol, HasOutputCol, DefaultParamsReadable, DefaultParamsWritable\n",
        "):\n",
        "    period = Param(\n",
        "        Params._dummy(),\n",
        "        \"period\",\n",
        "        \"Period for sin/cos\",\n",
        "        typeConverter=TypeConverters.toFloat,\n",
        "    )\n",
        "\n",
        "    @keyword_only\n",
        "    def __init__(self, inputCol=None, outputCol=None, period=None):\n",
        "        super(SinCosTransformer, self).__init__()\n",
        "        # self.period = Param(self, \"peirod\", \"\")\n",
        "        self._setDefault(period=1)\n",
        "        kwargs = self._input_kwargs\n",
        "        self.setParams(**kwargs)\n",
        "\n",
        "    @keyword_only\n",
        "    def setParams(self, inputCol=None, outputCol=None, period=None):\n",
        "        kwargs = self._input_kwargs\n",
        "        return self._set(**kwargs)\n",
        "\n",
        "    def setPeriod(self, value):\n",
        "        return self._set(period=float(value))\n",
        "\n",
        "    def getPeriod(self):\n",
        "        return self.getOrDefault(self.period)\n",
        "\n",
        "    def setInputCol(self, value):\n",
        "        return self._set(inputCol=value)\n",
        "\n",
        "    def setOutputCol(self, value):\n",
        "        return self._set(outputCol=value)\n",
        "\n",
        "    def _transform(self, dataset):\n",
        "        period = self.getPeriod()\n",
        "        inputCol = self.getInputCol()\n",
        "        outputCol = self.getOutputCol()\n",
        "\n",
        "        value = 2 * math.pi * F.col(inputCol) / period\n",
        "        dataset = dataset.withColumn(f\"{outputCol}_sin\", F.sin(value))\n",
        "        dataset = dataset.withColumn(f\"{outputCol}_cos\", F.cos(value))\n",
        "\n",
        "        return dataset"
      ],
      "metadata": {
        "id": "v2QsmG4dx79N"
      },
      "execution_count": 57,
      "outputs": []
    },
    {
      "cell_type": "code",
      "source": [
        "train, test = df.randomSplit([0.7, 0.3], seed=42)"
      ],
      "metadata": {
        "id": "SoThjPLwswuz"
      },
      "execution_count": 58,
      "outputs": []
    },
    {
      "cell_type": "code",
      "source": [
        "from pyspark.ml.feature import VectorAssembler, StandardScaler\n",
        "from pyspark.ml import Pipeline\n",
        "\n",
        "pipeline = Pipeline(\n",
        "    stages=[\n",
        "        VectorAssembler(\n",
        "            inputCols=[\n",
        "                \"cmaq_ozone\",\n",
        "                \"cmaq_oc\",\n",
        "                \"pressure\",\n",
        "                \"pbl\",\n",
        "                \"temperature\",\n",
        "                \"cloud_fraction\",\n",
        "                \"wind_speed\",\n",
        "            ],\n",
        "            outputCol=\"linear_features\",\n",
        "        ),\n",
        "        StandardScaler(\n",
        "            inputCol=\"linear_features\",\n",
        "            outputCol=\"scaled_features\",\n",
        "            withMean=True,\n",
        "            withStd=True,\n",
        "        ),\n",
        "        SinCosTransformer(inputCol=\"month\", outputCol=\"month\", period=12),\n",
        "        SinCosTransformer(inputCol=\"day\", outputCol=\"day\", period=31),\n",
        "        SinCosTransformer(inputCol=\"hour\", outputCol=\"hour\", period=24),\n",
        "        VectorAssembler(\n",
        "            inputCols=[\n",
        "                \"scaled_features\",\n",
        "                \"month_sin\",\n",
        "                \"month_cos\",\n",
        "                \"day_sin\",\n",
        "                \"day_cos\",\n",
        "                \"hour_sin\",\n",
        "                \"hour_cos\",\n",
        "            ],\n",
        "            outputCol=\"features\",\n",
        "        ),\n",
        "    ]\n",
        ")"
      ],
      "metadata": {
        "id": "2fcnuXSlrnfu"
      },
      "execution_count": 59,
      "outputs": []
    },
    {
      "cell_type": "code",
      "source": [
        "pipeline = pipeline.fit(train)\n",
        "\n",
        "train = pipeline.transform(train)\n",
        "test = pipeline.transform(test)"
      ],
      "metadata": {
        "id": "7vNIoxkj3KD9"
      },
      "execution_count": 61,
      "outputs": []
    },
    {
      "cell_type": "code",
      "source": [
        "train = train.select(\"features\", \"radiation\")\n",
        "test = test.select(\"features\", \"radiation\")"
      ],
      "metadata": {
        "id": "31vGDx9E0lh1"
      },
      "execution_count": 66,
      "outputs": []
    },
    {
      "cell_type": "code",
      "source": [
        "bin = F.when(F.col(\"radiation\") < 100, 0).otherwise(1)\n",
        "train = train.withColumn(\"label\", bin)\n",
        "test = test.withColumn(\"label\", bin)"
      ],
      "metadata": {
        "id": "eTZ907GL3M7a"
      },
      "execution_count": 69,
      "outputs": []
    },
    {
      "cell_type": "code",
      "source": [
        "from pyspark.ml.classification import RandomForestClassifier\n",
        "\n",
        "model = RandomForestClassifier(featuresCol=\"features\", labelCol=\"label\")\n",
        "model = model.fit(train)"
      ],
      "metadata": {
        "id": "kWClKlKV1bME"
      },
      "execution_count": 74,
      "outputs": []
    },
    {
      "cell_type": "code",
      "source": [
        "predictions = model.transform(test)\n",
        "predictions.show()"
      ],
      "metadata": {
        "colab": {
          "base_uri": "https://localhost:8080/"
        },
        "id": "InBjiKnx44Fb",
        "outputId": "19cbe71d-69db-4e22-fac3-b20324161698"
      },
      "execution_count": 83,
      "outputs": [
        {
          "output_type": "stream",
          "name": "stdout",
          "text": [
            "+--------------------+---------+-----+--------------------+--------------------+----------+\n",
            "|            features|radiation|label|       rawPrediction|         probability|prediction|\n",
            "+--------------------+---------+-----+--------------------+--------------------+----------+\n",
            "|[-0.9234800013694...|      0.0|    0|[19.1970121039161...|[0.95985060519580...|       0.0|\n",
            "|[-1.1718951721444...|      0.0|    0|[19.1929842380791...|[0.95964921190395...|       0.0|\n",
            "|[-1.0890901152194...|      0.0|    0|[19.1521884601229...|[0.95760942300614...|       0.0|\n",
            "|[-1.0062850582944...|      0.0|    0|[19.1929842380791...|[0.95964921190395...|       0.0|\n",
            "|[-0.8406749444444...|      0.0|    0|[19.1970121039161...|[0.95985060519580...|       0.0|\n",
            "|[-0.8406749444444...|      0.0|    0|[18.7629127616238...|[0.93814563808119...|       0.0|\n",
            "|[-0.8406749444444...|      0.0|    0|[19.1970121039161...|[0.95985060519580...|       0.0|\n",
            "|[-1.5031153998443...|      0.0|    0|[19.1929842380791...|[0.95964921190395...|       0.0|\n",
            "|[-1.2547002290693...|      0.0|    0|[19.1970121039161...|[0.95985060519580...|       0.0|\n",
            "|[-1.2547002290693...|      0.0|    0|[19.0388291099810...|[0.95194145549905...|       0.0|\n",
            "|[-1.1718951721444...|      0.0|    0|[19.1970121039161...|[0.95985060519580...|       0.0|\n",
            "|[-1.1718951721444...|     32.0|    0|[19.0222042206504...|[0.95111021103252...|       0.0|\n",
            "|[-1.0890901152194...|      0.0|    0|[19.1929842380791...|[0.95964921190395...|       0.0|\n",
            "|[-1.0062850582944...|      0.0|    0|[19.1970121039161...|[0.95985060519580...|       0.0|\n",
            "|[-1.0062850582944...|      0.0|    0|[19.1929842380791...|[0.95964921190395...|       0.0|\n",
            "|[-0.9234800013694...|      0.0|    0|[19.1929842380791...|[0.95964921190395...|       0.0|\n",
            "|[-0.9234800013694...|      0.0|    0|[19.1970121039161...|[0.95985060519580...|       0.0|\n",
            "|[-0.8406749444444...|      0.0|    0|[19.1970121039161...|[0.95985060519580...|       0.0|\n",
            "|[-0.7578698875194...|      0.0|    0|[19.1970121039161...|[0.95985060519580...|       0.0|\n",
            "|[-0.6750648305944...|      0.0|    0|[19.0788510925402...|[0.95394255462701...|       0.0|\n",
            "+--------------------+---------+-----+--------------------+--------------------+----------+\n",
            "only showing top 20 rows\n",
            "\n"
          ]
        }
      ]
    },
    {
      "cell_type": "code",
      "source": [
        "from pyspark.ml.evaluation import MulticlassClassificationEvaluator\n",
        "\n",
        "evaluator = MulticlassClassificationEvaluator(\n",
        "    labelCol=\"label\",\n",
        "    predictionCol=\"prediction\",\n",
        "    metricName=\"accuracy\"\n",
        ")\n",
        "\n",
        "accuracy = evaluator.evaluate(predictions)\n",
        "print(f\"Accuracy: {accuracy:.4f}\")"
      ],
      "metadata": {
        "colab": {
          "base_uri": "https://localhost:8080/"
        },
        "id": "Kf06w9jt9ic6",
        "outputId": "5a986883-892a-4354-af8b-cd00054d4d3d"
      },
      "execution_count": 85,
      "outputs": [
        {
          "output_type": "stream",
          "name": "stdout",
          "text": [
            "Accuracy: 0.9071\n"
          ]
        }
      ]
    },
    {
      "cell_type": "code",
      "source": [],
      "metadata": {
        "id": "keZNhzKb-w_K"
      },
      "execution_count": null,
      "outputs": []
    }
  ]
}